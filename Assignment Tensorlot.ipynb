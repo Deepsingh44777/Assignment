{
 "cells": [
  {
   "cell_type": "code",
   "execution_count": 44,
   "id": "fdc3f618",
   "metadata": {},
   "outputs": [
    {
     "name": "stdout",
     "output_type": "stream",
     "text": [
      "Column Names:\n",
      "Index(['asin', 'related', 'title', 'price', 'salesRank', 'imUrl', 'brand',\n",
      "       'categories', 'description'],\n",
      "      dtype='object')\n",
      "\n",
      "DataFrame:\n",
      "               asin                                            related  \\\n",
      "0        0000037214  {'also_viewed': ['B00JO8II76', 'B00DGN4R1Q', '...   \n",
      "1        0000031887  {'also_bought': ['0000031852', '0000031895', '...   \n",
      "2        0123456479  {'also_bought': ['B000BMTCK6', 'B0006JCGUM', '...   \n",
      "3        0456844570  {'also_viewed': ['B008MTRT1O', 'B00BUG47S4', '...   \n",
      "4        0456808574  {'also_viewed': ['B00A6JD8EA', 'B00BFL4FTA', '...   \n",
      "...             ...                                                ...   \n",
      "1503379  B00LU8ZCTU  {'also_bought': ['B00C9LSE7Y'], 'also_viewed':...   \n",
      "1503380  B00LU0ZXJM                                                NaN   \n",
      "1503381  B00LV5LDYK                                                NaN   \n",
      "1503382  B00LWWANMU  {'also_viewed': ['B00EMDL9Y2', 'B00ER1OL08', '...   \n",
      "1503383  B00LZSAV2I                                                NaN   \n",
      "\n",
      "                                                     title  price  \\\n",
      "0        Purple Sequin Tiny Dancer Tutu Ballet Dance Fa...   6.99   \n",
      "1                               Ballet Dress-Up Fairy Tutu   6.79   \n",
      "2        SHINING IMAGE HUGE PINK LEATHER JEWELRY BOX / ...  64.98   \n",
      "3        RiZ Women's Beautify Crafted &frac12; Rimmed F...    NaN   \n",
      "4        Lantin White Visor Wrap Around Ski Style Aviat...    NaN   \n",
      "...                                                    ...    ...   \n",
      "1503379  It's Sterling Silver Heart Necklace with Made ...  24.99   \n",
      "1503380  Realtree Ruffle Spa Wrap + Mossy Oak Pink Scru...    NaN   \n",
      "1503381  Women's Empire Waist with Tummy Control/ Full ...    NaN   \n",
      "1503382  Skirts 'N Scarves Women's Long Cotton Maxi Pai...  19.99   \n",
      "1503383             American Posh Baby Short Sleeve Onesie  49.99   \n",
      "\n",
      "                               salesRank  \\\n",
      "0                  {'Clothing': 1233557}   \n",
      "1        {'Sports &amp; Outdoors': 8547}   \n",
      "2            {'Kitchen & Dining': 16987}   \n",
      "3                  {'Clothing': 1180499}   \n",
      "4                  {'Clothing': 1038084}   \n",
      "...                                  ...   \n",
      "1503379               {'Jewelry': 29873}   \n",
      "1503380                              NaN   \n",
      "1503381                              NaN   \n",
      "1503382             {'Clothing': 521540}   \n",
      "1503383             {'Clothing': 265633}   \n",
      "\n",
      "                                                     imUrl           brand  \\\n",
      "0        http://ecx.images-amazon.com/images/I/31mCncNu...      Big Dreams   \n",
      "1        http://ecx.images-amazon.com/images/I/314qZjYe...  Boutique Cutie   \n",
      "2        http://ecx.images-amazon.com/images/I/413tGhqo...             NaN   \n",
      "3        http://ecx.images-amazon.com/images/I/31QZTHxv...             NaN   \n",
      "4        http://ecx.images-amazon.com/images/I/31UsrgT5...             NaN   \n",
      "...                                                    ...             ...   \n",
      "1503379  http://ecx.images-amazon.com/images/I/41wBDoXB...             NaN   \n",
      "1503380  http://ecx.images-amazon.com/images/I/41mJKa23...             NaN   \n",
      "1503381  http://ecx.images-amazon.com/images/I/416PfDL1...             NaN   \n",
      "1503382  http://ecx.images-amazon.com/images/I/51SOSTQg...             NaN   \n",
      "1503383  http://ecx.images-amazon.com/images/I/41jog0Wa...             NaN   \n",
      "\n",
      "                                                categories  \\\n",
      "0        [['Clothing, Shoes & Jewelry', 'Girls'], ['Clo...   \n",
      "1        [['Clothing, Shoes & Jewelry', 'Girls', 'Cloth...   \n",
      "2        [['Clothing, Shoes & Jewelry', 'Novelty, Costu...   \n",
      "3        [['Clothing, Shoes & Jewelry', 'Women', 'Acces...   \n",
      "4        [['Clothing, Shoes & Jewelry', 'Women', 'Acces...   \n",
      "...                                                    ...   \n",
      "1503379  [['Clothing, Shoes & Jewelry', 'Women'], ['Clo...   \n",
      "1503380  [['Clothing, Shoes & Jewelry', 'Women', 'Cloth...   \n",
      "1503381  [['Clothing, Shoes & Jewelry', 'Women'], ['Clo...   \n",
      "1503382  [['Clothing, Shoes & Jewelry', 'Women', 'Cloth...   \n",
      "1503383  [['Clothing, Shoes & Jewelry', 'Baby', 'Baby G...   \n",
      "\n",
      "                                               description  \n",
      "0                                                      NaN  \n",
      "1        This adorable basic ballerina tutu is perfect ...  \n",
      "2        Elegance par excellence. Hand-crafted of the f...  \n",
      "3                                                      NaN  \n",
      "4                                                      NaN  \n",
      "...                                                    ...  \n",
      "1503379                                                NaN  \n",
      "1503380                                                NaN  \n",
      "1503381                                                NaN  \n",
      "1503382                                                NaN  \n",
      "1503383                                                NaN  \n",
      "\n",
      "[1503384 rows x 9 columns]\n"
     ]
    }
   ],
   "source": [
    "import pandas as pd\n",
    "\n",
    "# Defining the path to the CSV file\n",
    "csv_file_path = 'output_file.csv'\n",
    "\n",
    "# Reading the CSV file into a DataFrame\n",
    "df = pd.read_csv(csv_file_path)\n",
    "\n",
    "# Displaying the DataFrame\n",
    "print(\"Column Names:\")\n",
    "print(df.columns)\n",
    "print(\"\\nDataFrame:\")\n",
    "print(df)"
   ]
  },
  {
   "cell_type": "code",
   "execution_count": null,
   "id": "e4fa036e",
   "metadata": {},
   "outputs": [],
   "source": [
    "import gzip\n",
    "import csv\n",
    "\n",
    "# Define input and output file paths\n",
    "json_gz_file = 'meta_Clothing_Shoes_and_Jewelry.json.gz'\n",
    "output_csv_file = 'output_file.csv'\n",
    "\n",
    "# Define the columns to extract\n",
    "columns = ['asin', 'related', 'title', 'price', 'salesRank', 'imUrl', 'brand', 'categories', 'description']\n",
    "\n",
    "# Function to extract required fields and write to CSV\n",
    "def json_gz_to_csv(json_gz_file, output_csv_file, columns):\n",
    "    with gzip.open(json_gz_file, 'rt', encoding='utf-8') as f_in, open(output_csv_file, 'w', newline='', encoding='utf-8') as f_out:\n",
    "        writer = csv.DictWriter(f_out, fieldnames=columns)\n",
    "        writer.writeheader()\n",
    "\n",
    "        for line in f_in:\n",
    "            data = eval(line)  # Using eval() to parse JSON-like strings\n",
    "            row = {col: data.get(col, '') for col in columns}\n",
    "            writer.writerow(row)\n",
    "\n",
    "# Call the function to convert JSON.gz to CSV\n",
    "json_gz_to_csv(json_gz_file, output_csv_file, columns)\n"
   ]
  },
  {
   "cell_type": "code",
   "execution_count": 3,
   "id": "52725fd2",
   "metadata": {},
   "outputs": [
    {
     "name": "stdout",
     "output_type": "stream",
     "text": [
      "Collecting pyspark\n",
      "  Downloading pyspark-3.5.0.tar.gz (316.9 MB)\n",
      "\u001b[2K     \u001b[90m━━━━━━━━━━━━━━━━━━━━━━━━━━━━━━━━━━━━━━━\u001b[0m \u001b[32m316.9/316.9 MB\u001b[0m \u001b[31m4.9 MB/s\u001b[0m eta \u001b[36m0:00:00\u001b[0m00:01\u001b[0m00:01\u001b[0m\n",
      "\u001b[?25h  Preparing metadata (setup.py) ... \u001b[?25ldone\n",
      "\u001b[?25hCollecting py4j==0.10.9.7 (from pyspark)\n",
      "  Downloading py4j-0.10.9.7-py2.py3-none-any.whl (200 kB)\n",
      "\u001b[2K     \u001b[90m━━━━━━━━━━━━━━━━━━━━━━━━━━━━━━━━━━━━━━━\u001b[0m \u001b[32m200.5/200.5 kB\u001b[0m \u001b[31m6.9 MB/s\u001b[0m eta \u001b[36m0:00:00\u001b[0m\n",
      "\u001b[?25hBuilding wheels for collected packages: pyspark\n",
      "  Building wheel for pyspark (setup.py) ... \u001b[?25ldone\n",
      "\u001b[?25h  Created wheel for pyspark: filename=pyspark-3.5.0-py2.py3-none-any.whl size=317425347 sha256=69b17d49dd3d739485ce125a2d7b751493c505d45fcdef7c5897936247d2ea42\n",
      "  Stored in directory: /Users/deepak Singh/Library/Caches/pip/wheels/38/df/61/8c121f50c3cffd77f8178180dd232d90b3b99d1bd61fb6d6be\n",
      "Successfully built pyspark\n",
      "Installing collected packages: py4j, pyspark\n",
      "Successfully installed py4j-0.10.9.7 pyspark-3.5.0\n",
      "Note: you may need to restart the kernel to use updated packages.\n"
     ]
    }
   ],
   "source": [
    "pip install pyspark"
   ]
  },
  {
   "cell_type": "code",
   "execution_count": null,
   "id": "e09a9d0c",
   "metadata": {},
   "outputs": [],
   "source": [
    "# Import necessary libraries\n",
    "from pyspark.sql import SparkSession\n",
    "from pyspark.sql.functions import col, length\n",
    "\n",
    "# Initialize SparkSession\n",
    "spark = SparkSession.builder \\\n",
    "    .appName(\"Amazon Reviews Analysis\") \\\n",
    "    .getOrCreate()\n",
    "\n",
    "# Read the million reviews dataset in JSON.gz format\n",
    "reviews_df = spark.read.json(\"path_to_million_reviews.json.gz\")\n",
    "\n",
    "# Task 1: Find the item with the least rating\n",
    "least_rated_item = reviews_df.orderBy(\"overall\").first()\n",
    "\n",
    "# Task 2: Find the item with the most rating\n",
    "most_rated_item = reviews_df.orderBy(col(\"overall\").desc()).first()\n",
    "\n",
    "# Task 3: Find the item with the longest reviews\n",
    "longest_review_item = reviews_df.orderBy(length(col(\"reviewText\")).desc()).first()\n",
    "\n",
    "# Task 4: Transform the date format to MM-DD-YYYY\n",
    "# Assuming the date column is named 'reviewTime', you can use Spark SQL functions to manipulate the date column\n",
    "\n",
    "# Task 5: Perform a desired DataFrame operation\n",
    "# For example, you can group by a column and calculate aggregates\n",
    "\n",
    "# Convert DataFrame to Parquet file\n",
    "reviews_df.write.parquet(\"path_to_output_parquet_file\")\n",
    "\n",
    "# Stop SparkSession\n",
    "spark.stop()"
   ]
  },
  {
   "cell_type": "code",
   "execution_count": 21,
   "id": "9a318818",
   "metadata": {},
   "outputs": [],
   "source": [
    "# Import necessary libraries\n",
    "from pyspark.sql import SparkSession\n",
    "from pyspark.sql.functions import col, length"
   ]
  },
  {
   "cell_type": "code",
   "execution_count": 22,
   "id": "c056c4bf",
   "metadata": {},
   "outputs": [],
   "source": [
    "# Initialize SparkSession\n",
    "spark = SparkSession.builder \\\n",
    "    .appName(\"Amazon Reviews Analysis\") \\\n",
    "    .getOrCreate()"
   ]
  },
  {
   "cell_type": "code",
   "execution_count": 23,
   "id": "6cfc6209",
   "metadata": {},
   "outputs": [
    {
     "name": "stderr",
     "output_type": "stream",
     "text": [
      "                                                                                \r"
     ]
    }
   ],
   "source": [
    "# Read the million reviews dataset in CSV format\n",
    "reviews_df = spark.read.csv(\"output_file.csv\", header=True, inferSchema=True)"
   ]
  },
  {
   "cell_type": "code",
   "execution_count": 34,
   "id": "33a1dc1d",
   "metadata": {},
   "outputs": [
    {
     "data": {
      "text/plain": [
       "DataFrame[summary: string, asin: string, related: string, title: string, price: string, salesRank: string, imUrl: string, brand: string, categories: string, description: string]"
      ]
     },
     "execution_count": 34,
     "metadata": {},
     "output_type": "execute_result"
    }
   ],
   "source": [
    "reviews_df.describe()"
   ]
  },
  {
   "cell_type": "markdown",
   "id": "e8b9c35e",
   "metadata": {},
   "source": [
    "# Product with least ratings"
   ]
  },
  {
   "cell_type": "code",
   "execution_count": 45,
   "id": "a31e1283",
   "metadata": {},
   "outputs": [
    {
     "ename": "AssertionError",
     "evalue": "",
     "output_type": "error",
     "traceback": [
      "\u001b[0;31m---------------------------------------------------------------------------\u001b[0m",
      "\u001b[0;31mAssertionError\u001b[0m                            Traceback (most recent call last)",
      "\u001b[0;32m/var/folders/lj/tb1zbt355mn5bwz757jwnxs40000gn/T/ipykernel_43782/1901389672.py\u001b[0m in \u001b[0;36m?\u001b[0;34m()\u001b[0m\n\u001b[0;32m----> 1\u001b[0;31m \u001b[0mleast_rated_product\u001b[0m \u001b[0;34m=\u001b[0m \u001b[0mreviews_df\u001b[0m\u001b[0;34m.\u001b[0m\u001b[0morderBy\u001b[0m\u001b[0;34m(\u001b[0m\u001b[0mcol\u001b[0m\u001b[0;34m(\u001b[0m\u001b[0;34m\"description\"\u001b[0m\u001b[0;34m)\u001b[0m\u001b[0;34m.\u001b[0m\u001b[0masc\u001b[0m\u001b[0;34m(\u001b[0m\u001b[0;34m)\u001b[0m\u001b[0;34m)\u001b[0m\u001b[0;34m.\u001b[0m\u001b[0mfirst\u001b[0m\u001b[0;34m(\u001b[0m\u001b[0;34m)\u001b[0m\u001b[0;34m\u001b[0m\u001b[0;34m\u001b[0m\u001b[0m\n\u001b[0m",
      "\u001b[0;32m/Applications/anaconda3/lib/python3.11/site-packages/pyspark/sql/utils.py\u001b[0m in \u001b[0;36m?\u001b[0;34m(*args, **kwargs)\u001b[0m\n\u001b[1;32m    170\u001b[0m             \u001b[0;32mfrom\u001b[0m \u001b[0mpyspark\u001b[0m\u001b[0;34m.\u001b[0m\u001b[0msql\u001b[0m\u001b[0;34m.\u001b[0m\u001b[0mconnect\u001b[0m \u001b[0;32mimport\u001b[0m \u001b[0mfunctions\u001b[0m\u001b[0;34m\u001b[0m\u001b[0;34m\u001b[0m\u001b[0m\n\u001b[1;32m    171\u001b[0m \u001b[0;34m\u001b[0m\u001b[0m\n\u001b[1;32m    172\u001b[0m             \u001b[0;32mreturn\u001b[0m \u001b[0mgetattr\u001b[0m\u001b[0;34m(\u001b[0m\u001b[0mfunctions\u001b[0m\u001b[0;34m,\u001b[0m \u001b[0mf\u001b[0m\u001b[0;34m.\u001b[0m\u001b[0m__name__\u001b[0m\u001b[0;34m)\u001b[0m\u001b[0;34m(\u001b[0m\u001b[0;34m*\u001b[0m\u001b[0margs\u001b[0m\u001b[0;34m,\u001b[0m \u001b[0;34m**\u001b[0m\u001b[0mkwargs\u001b[0m\u001b[0;34m)\u001b[0m\u001b[0;34m\u001b[0m\u001b[0;34m\u001b[0m\u001b[0m\n\u001b[1;32m    173\u001b[0m         \u001b[0;32melse\u001b[0m\u001b[0;34m:\u001b[0m\u001b[0;34m\u001b[0m\u001b[0;34m\u001b[0m\u001b[0m\n\u001b[0;32m--> 174\u001b[0;31m             \u001b[0;32mreturn\u001b[0m \u001b[0mf\u001b[0m\u001b[0;34m(\u001b[0m\u001b[0;34m*\u001b[0m\u001b[0margs\u001b[0m\u001b[0;34m,\u001b[0m \u001b[0;34m**\u001b[0m\u001b[0mkwargs\u001b[0m\u001b[0;34m)\u001b[0m\u001b[0;34m\u001b[0m\u001b[0;34m\u001b[0m\u001b[0m\n\u001b[0m",
      "\u001b[0;32m/Applications/anaconda3/lib/python3.11/site-packages/pyspark/sql/functions.py\u001b[0m in \u001b[0;36m?\u001b[0;34m(col)\u001b[0m\n\u001b[1;32m    219\u001b[0m     \u001b[0mColumn\u001b[0m\u001b[0;34m<\u001b[0m\u001b[0;34m'x'\u001b[0m\u001b[0;34m>\u001b[0m\u001b[0;34m\u001b[0m\u001b[0;34m\u001b[0m\u001b[0m\n\u001b[1;32m    220\u001b[0m     \u001b[0;34m>>\u001b[0m\u001b[0;34m>\u001b[0m \u001b[0mcolumn\u001b[0m\u001b[0;34m(\u001b[0m\u001b[0;34m'x'\u001b[0m\u001b[0;34m)\u001b[0m\u001b[0;34m\u001b[0m\u001b[0;34m\u001b[0m\u001b[0m\n\u001b[1;32m    221\u001b[0m     \u001b[0mColumn\u001b[0m\u001b[0;34m<\u001b[0m\u001b[0;34m'x'\u001b[0m\u001b[0;34m>\u001b[0m\u001b[0;34m\u001b[0m\u001b[0;34m\u001b[0m\u001b[0m\n\u001b[1;32m    222\u001b[0m     \"\"\"\n\u001b[0;32m--> 223\u001b[0;31m     \u001b[0;32mreturn\u001b[0m \u001b[0m_invoke_function\u001b[0m\u001b[0;34m(\u001b[0m\u001b[0;34m\"col\"\u001b[0m\u001b[0;34m,\u001b[0m \u001b[0mcol\u001b[0m\u001b[0;34m)\u001b[0m\u001b[0;34m\u001b[0m\u001b[0;34m\u001b[0m\u001b[0m\n\u001b[0m",
      "\u001b[0;32m/Applications/anaconda3/lib/python3.11/site-packages/pyspark/sql/functions.py\u001b[0m in \u001b[0;36m?\u001b[0;34m(name, *args)\u001b[0m\n\u001b[1;32m     91\u001b[0m     \"\"\"\n\u001b[1;32m     92\u001b[0m     \u001b[0mInvokes\u001b[0m \u001b[0mJVM\u001b[0m \u001b[0mfunction\u001b[0m \u001b[0midentified\u001b[0m \u001b[0mby\u001b[0m \u001b[0mname\u001b[0m \u001b[0;32mwith\u001b[0m \u001b[0margs\u001b[0m\u001b[0;34m\u001b[0m\u001b[0;34m\u001b[0m\u001b[0m\n\u001b[1;32m     93\u001b[0m     \u001b[0;32mand\u001b[0m \u001b[0mwraps\u001b[0m \u001b[0mthe\u001b[0m \u001b[0mresult\u001b[0m \u001b[0;32mwith\u001b[0m \u001b[0;34m:\u001b[0m\u001b[0;32mclass\u001b[0m\u001b[0;34m:\u001b[0m\u001b[0;31m`\u001b[0m\u001b[0;34m~\u001b[0m\u001b[0mpyspark\u001b[0m\u001b[0;34m.\u001b[0m\u001b[0msql\u001b[0m\u001b[0;34m.\u001b[0m\u001b[0mColumn\u001b[0m\u001b[0;31m`\u001b[0m\u001b[0;34m.\u001b[0m\u001b[0;34m\u001b[0m\u001b[0;34m\u001b[0m\u001b[0m\n\u001b[1;32m     94\u001b[0m     \"\"\"\n\u001b[0;32m---> 95\u001b[0;31m     \u001b[0;32massert\u001b[0m \u001b[0mSparkContext\u001b[0m\u001b[0;34m.\u001b[0m\u001b[0m_active_spark_context\u001b[0m \u001b[0;32mis\u001b[0m \u001b[0;32mnot\u001b[0m \u001b[0;32mNone\u001b[0m\u001b[0;34m\u001b[0m\u001b[0;34m\u001b[0m\u001b[0m\n\u001b[0m\u001b[1;32m     96\u001b[0m     \u001b[0mjf\u001b[0m \u001b[0;34m=\u001b[0m \u001b[0m_get_jvm_function\u001b[0m\u001b[0;34m(\u001b[0m\u001b[0mname\u001b[0m\u001b[0;34m,\u001b[0m \u001b[0mSparkContext\u001b[0m\u001b[0;34m.\u001b[0m\u001b[0m_active_spark_context\u001b[0m\u001b[0;34m)\u001b[0m\u001b[0;34m\u001b[0m\u001b[0;34m\u001b[0m\u001b[0m\n\u001b[1;32m     97\u001b[0m     \u001b[0;32mreturn\u001b[0m \u001b[0mColumn\u001b[0m\u001b[0;34m(\u001b[0m\u001b[0mjf\u001b[0m\u001b[0;34m(\u001b[0m\u001b[0;34m*\u001b[0m\u001b[0margs\u001b[0m\u001b[0;34m)\u001b[0m\u001b[0;34m)\u001b[0m\u001b[0;34m\u001b[0m\u001b[0;34m\u001b[0m\u001b[0m\n",
      "\u001b[0;31mAssertionError\u001b[0m: "
     ]
    }
   ],
   "source": [
    "least_rated_product = reviews_df.orderBy(col(\"description\").asc()).first()"
   ]
  },
  {
   "cell_type": "code",
   "execution_count": 36,
   "id": "48bbd4b9",
   "metadata": {},
   "outputs": [
    {
     "name": "stdout",
     "output_type": "stream",
     "text": [
      "Product with Least Ratings:\n",
      "Row(asin='B00ATYH4XI', related=\"{'also_bought': ['B00ATYGMRW', 'B004WDYPBQ', 'B00ATYGMSQ', 'B00ATYGMT0', 'B00HSPCS9Q', 'B00AUBWHLE', 'B00ARQW64A', 'B00ATJU0V6', 'B00ASHT2E0', 'B00HU9SZ7E', 'B00ARR28HO', 'B006T9U53S', 'B00FA7ET8W', 'B00B1I7GYI', 'B006SDDEWE', 'B00IC8FNWC', 'B00ASHT2A4', 'B004HVP8QO', 'B004HI2E6Y', 'B004HVN550', 'B008KLLYQA', 'B00ARBZFZC', 'B00DRF5FPU', 'B00E6KF0XC', 'B004HVLABQ', 'B00ATJU0VG', 'B00ATWQCGK', 'B00E1BE57I', 'B00CU6W0JQ', 'B007638TD4', 'B00ARQW65Y', 'B00ATY2Z0K', 'B00ARSAOM4', 'B00ATWSUBK', 'B00AWMSB3Y', 'B00AUC4C84', 'B00C5YFIME', 'B00C5YFILA', 'B00ARSAOL0', 'B00ATY2Z1E', 'B006R4IBPY', 'B00JOO5NGE', 'B00AUC85R8', 'B00ARSAOHE', 'B006R4I8MK', 'B00D89EOXO', 'B00ATJU0WA', 'B00ARBWVWM', 'B00AUC84ZG', 'B00DI3JANE', 'B006ZUHX22', 'B00AUC84W4', 'B00ATL5Z0U', 'B004HFCK20', 'B004HVN3PC', 'B00ATL5ZLY', 'B00HZ6AGLK', 'B00F58YKUI', 'B00DPHGV76', 'B006ZUT942', 'B00ATXJWK2', 'B00ATWQCD8', 'B00ATWQCF6', 'B00763UFFY', 'B00DB2DFL0', 'B00ARR28GU', 'B007640V34', 'B008AG5KQA', 'B00ASHT1XM', 'B00E0EEGQ6', 'B0086UD7A6', 'B00FQH1TAW', 'B008OGN0Q8', 'B00AZGEEEW', 'B007C1CYEA', 'B00AZE80TY', 'B002CMLAT4', 'B00E3ROWZ0', 'B00FS84X9S', 'B00HSTF6TG', 'B008KLJNOK', 'B00E3ROWYG', 'B008TOEF7I', 'B0035EPXVO', 'B008HDZ4ZS', 'B0086TBI3A', 'B00E3QK06Q', 'B002HMDBO6', 'B0064LRHFU', 'B00AZOQJBU', 'B000WI5KLO', 'B0086TBI2G', 'B00BUM65PG', 'B005GBWZYW', 'B00ASHT2CM', 'B00C0OYHMG', 'B00BEV9FFA', 'B00DOTDJHK', 'B004HV9Q1M', 'B002F89HKY'], 'also_viewed': ['B004WDYPBQ', 'B00ATYGMRW', 'B00AUBWHLE', 'B00B1I7GYI', 'B006SDDEWE', 'B00ATYGMSQ', 'B004HFCK1Q', 'B00HU9SZ7E', 'B00ASHT2E0', 'B00E6KF0XC', 'B006SDDETC', 'B00HSPCS9Q', 'B00GXFJDJK', 'B00ATWQCF6', 'B00B1I7AQ2', 'B00ARQW63G', 'B00KY707WA', 'B00ARR28HO', 'B00IC8FNWC', 'B007640TYA', 'B00FA7ET8W', 'B00AUC84ZG', 'B00CAFMKGK', 'B00C5YFIME', 'B00GCI2QEW', 'B00ATJU0V6', 'B00BFWWSPW', 'B00GXFJELM', 'B006T9U53S', 'B00AUC84W4', 'B002PDPFD2', 'B00AUCJQIA', 'B004HI2E6Y', 'B00ATYGMT0', 'B00KVJ9NA8', 'B00FW60OV2', 'B00ATWSUBK', 'B006R4I8MK', 'B004HFIP42', 'B00ATWQCGK', 'B006PDWF7C', 'B007640V34', 'B00AWLYXWI', 'B00ARQW64A', 'B00KZNWO10', 'B004HVES42', 'B004HVP8QO', 'B00GP21LJQ', 'B00DFG9TWQ', 'B00763N75O', 'B00AWMSB3Y', 'B00ATJU0VG', 'B007638TD4', 'B00ATL5ZLY', 'B00ASHT2A4', 'B004HFCK20', 'B002CMLAT4', 'B00AUC85R8', 'B00C0OYHMG', 'B00ASHT2CM'], 'bought_together': ['B00ATYGMSQ', 'B00ATYGMRW', 'B004WDYPBQ', 'B00ARQW64A']}\", title=\"Clarks Women's Ingalls Thames Bootie\", price=None, salesRank=\"{'Shoes': 1019}\", imUrl='http://ecx.images-amazon.com/images/I/41%2B3Rs8SSGL._SX395_.jpg', brand=None, categories=\"[['Clothing, Shoes & Jewelry', 'Shoes & Accessories: International Shipping Available'], ['Clothing, Shoes & Jewelry', 'C', 'Clarks'], ['Clothing, Shoes & Jewelry', 'Women', 'Shoes', 'Boots']]\", description=None)\n"
     ]
    }
   ],
   "source": [
    "print(\"Product with Least Ratings:\")\n",
    "print(least_rated_product)\n",
    "\n",
    "# Stop SparkSession\n",
    "spark.stop()"
   ]
  },
  {
   "cell_type": "markdown",
   "id": "940007de",
   "metadata": {},
   "source": [
    "# Product with Most Ratings"
   ]
  },
  {
   "cell_type": "code",
   "execution_count": 38,
   "id": "b238a609",
   "metadata": {},
   "outputs": [
    {
     "name": "stderr",
     "output_type": "stream",
     "text": [
      "24/02/13 15:53:10 WARN Utils: Service 'SparkUI' could not bind on port 4040. Attempting port 4041.\n",
      "                                                                                \r"
     ]
    },
    {
     "name": "stdout",
     "output_type": "stream",
     "text": [
      "Product with Most Ratings:\n",
      "Row(asin='B00APZ9HJ0', related=\"{'also_viewed': ['B00DMXVQ9Q', 'B00APZ5UX2', 'B00LUFTYWY', 'B00APZ26YS', 'B00DHJES54', 'B00APYZ3HQ', 'B00CSIGGSM', 'B00J1ZT95W', 'B00JRA4V04', 'B00AK6SU2O', 'B00CYBCK38', 'B00DNPWIZE', 'B00E5X0KF8', 'B00JGG7K70', 'B00GFH9DVE', 'B00E39RLBU', 'B00GZVJ6FS', 'B00F5UGN24', 'B00FYKU9N4', 'B00K9NJULI', 'B00ANGV7DU', 'B00CDP7JWW', 'B00LBUWEO8', 'B00EZC3HGS', 'B00K64YU88', 'B00CRAREDM', 'B00GFXA920', 'B00GZ0RTSA', 'B00D3EVM1Q', 'B00E8UO4T6', 'B00IK9I4T2', 'B00DPJF3KU', 'B00EE44CQ6', 'B00IJ2VIFW', 'B00M0OGHV0', 'B00L19E3K2', 'B00DQ2C3HC', 'B00BQ6LPGK', 'B00KX3J9AQ', 'B00E8UO1LC', 'B00C0PIRE4']}\", title='2013 Hot New Tassel Padded Bandeau Fringe Bikini 2pcs Set Swimsuit Swimwear Purple (M)', price=None, salesRank=\"{'Health & Personal Care': 492589}\", imUrl='http://ecx.images-amazon.com/images/I/41Gha4-BDJL._SY300_.jpg', brand=None, categories=\"[['Clothing, Shoes & Jewelry', 'Women', 'Clothing', 'Swimsuits & Cover Ups', 'Bikinis']]\", description='~~100% new and in good quality, Package: bra top + underwear bottom ')\n"
     ]
    }
   ],
   "source": [
    "# Initialize SparkSession\n",
    "spark = SparkSession.builder \\\n",
    "    .appName(\"Reading CSV and Find Product with Most Ratings\") \\\n",
    "    .getOrCreate()\n",
    "\n",
    "# Read the DataFrame\n",
    "df = spark.read.csv(\"output_file.csv\", header=True, inferSchema=True)\n",
    "\n",
    "# Find the product with the most ratings\n",
    "most_rated_product = df.orderBy(col(\"description\").desc()).first()\n",
    "\n",
    "# Display the product with most ratings\n",
    "print(\"Product with Most Ratings:\")\n",
    "print(most_rated_product)\n",
    "\n",
    "# Stop SparkSession\n",
    "spark.stop()"
   ]
  },
  {
   "cell_type": "markdown",
   "id": "e67e6531",
   "metadata": {},
   "source": [
    "# Product with longest review."
   ]
  },
  {
   "cell_type": "code",
   "execution_count": 40,
   "id": "0cb22484",
   "metadata": {},
   "outputs": [
    {
     "name": "stderr",
     "output_type": "stream",
     "text": [
      "                                                                                \r"
     ]
    },
    {
     "name": "stdout",
     "output_type": "stream",
     "text": [
      "Product with Longest Review:\n",
      "Row(asin='B00BIBSY4E', related=\"{'also_bought': ['B000088SYA', 'B001716LMM', 'B001CNFZEK', 'B0000669JL', 'B001LQSFKY', 'B00AKGG5O4', 'B00000JR29', 'B0012GMW9S', 'B00ILAWK40', 'B00AKGG60M', 'B007C0J39A', 'B00AKGG5XK', 'B00BH414Y4', 'B007V5LVMI'], 'bought_together': ['B000088SYA'], 'buy_after_viewing': ['B001U9BS4W', 'B000088SYA']}\", title=None, price='41.1', salesRank=\"{'Music': 215340}\", imUrl='http://ecx.images-amazon.com/images/I/61-XHJ2eWjL._SY300_.jpg', brand=None, categories=\"[['CDs & Vinyl', 'Alternative Rock', 'New Wave & Post-Punk', 'New Wave'], ['CDs & Vinyl', 'Pop'], ['CDs & Vinyl', 'Rock'], ['Clothing, Shoes & Jewelry', 'Men']]\", description=\"It is funny how fame works. When Men at Work recorded their second album Cargo in the summer of 1982, they were just a regional act who had moderate success in their native Australia with their debut album Business As Usual. Then a few songs from that debut began to get heavy airplay in Western Canada and finally the United States. By late 1982, with this follow-up already recorded and set for release, Business As Usual skyrocketed to the top of the charts and the group were suddenly superstars, a fame which carried into 1983 when the delayed release of Cargo finally occurred and collection of similar yet more mature tracks continued the band s momentum in the pop world. On Cargo, the personnel and production team from the debut album remained, led by producer Peter McIan and the band s chief songwriter and vocalist Colin Hay. The band returned to their signature mixture of reggae with new wave fused rock and pop, accented by Hay s distinct vocal delivery and pronunciation. However, on this album they did attempt more ambitious and deep compositions, which gives it a slight edge. The album has a very polished rhythm with bassist Jonathan Rees and drummer Jerry Speiser holding down the bottom end with precision and tightness, giving Hay the space to let melodies and riffs develop on top. Also, with this typical production any of the sonic flourishes (albeit few and far between) and brought out with maximum contrast and effect. The opener Dr. Heckyll and Mr. Jive is almost frivolous in nature as the song employs a sped up reggae beat during the verse and dissolves to a slow, waltz rock during the chorus. The good lead guitar of Ron Strykert sets the pace for his fine work on this album. Strykert also composed and sang lead on Settle Down My Boy , a song where the underlying reggae is brought to a pop extreme, alternating keys in the first few verses, with another great guitar lead with some sharp room effects. Upstairs in My House is a frantic and desperate, yet still upbeat pop song may have been a representation of type of material the band was going for on this album. The strong first side ends with No Sign of Yesterday , a song of nostalgia and longing lyrically, where Rees and Speiser add some rare rhythm accents, adding effect to the darkness of the song. Strykert also gets into the act with a souring and soulful guitar lead. Perhaps the best pure pop song of the entire decade of the 1980s, Overkill contains a hyper new wave rhythm beneath the deep and melodic vocals of Colin Hay. This is all topped off with a signature saxophone and haunting synths by Greg Ham and yet another tremendous lead guitar by Strykert. The song reached number 3 on the Billboard Pop chart and contains spastic yet profound lyrics, highlighted by the fantastic line; Ghosts appear and fade away...  Side two begins with It s a Mistake , another Top Ten hit for the band, where Hay s sharply picked, choppy guitar chords are synched with a fine reggae accompaniment in a light but macabre presentation in the spirit of the film Doctor Strange Love. The song breaks out of this choppy rhythm about three quarters through for a memorable coda, led by a chorus of melodic guitars and Hay s desperate, shouting vocals, for a climatic ending. --Classic Rock ReviewThis New Wave touchstone record their 1983 sophomore album picks up on the momentum of the band's debut. It contains top 10 hits It's A Mistake and Overkill . Men at Work already had an album in the Top Ten when the Australian ensemble released Cargo, which continued the momentum gained by its record-setting debut. As ambitious and even more diversified than its initial salvo, the 1983 effort firmly established the band as new wave pioneers a group whose goofy playfulness, sharp hooks, brass accents, and memorable choruses helped define the decade's landscape. Any doubts about Men At Work's quirky sensibility were promptly answered by the iconic cover art gracing this multi-platinum set. Mastered on our world renowned mastering system and pressed at RTI, this LP not only brings the artwork back into full-scale glory but also takes the enjoyably melodic pop rock to new sonic heights courtesy of improved imaging, separation, and balance. Previously obscured details jump to the surface, and leader Colin Hay's unique voice takes on life like dimensions that hover between the speakers. While remaining true to the approach that garnered them a Grammy Award for Best New Artist, Men at Work expands the creative palette on Cargo by giving guitars a more prominent role and increasing the rhythmic textures. With the sweeping ballad Overkill and politically savvy cynicism of It's a Mistake, the band furthered their radio domination and extended their run of Top 10 singles. A third hit, Dr. Heckyll and Mr. Jive, cracked the Top 30. Well tailored melodies and whimsical imagination definitely had a place in the public's consciousness, and no group understood this more. As the final album captured by the original lineup, Cargo remains an indelible piece of the 1980s audio terrain and a reminder of the era's endless fun. Bolstered by lively saxophone solos, self effacing humour, and instantly catchy refrains, the album is as good an excuse as any to turn on the stereo, sit down, forget your worries, and dance to leisurely pursuits so perfectly captured by this beloved group. --Rockian Trading AustraliaBefore we get into the music, let's take a gander at the album cover. As an 8-year-old, the cartoon artwork and abundance of detail to peruse was highly appealing. Now it strikes me as somewhat silly and ill-fitting to the music within. Though I suppose it works as a nice contrast to the mostly serious and dour nature of the lyrics and overall mood of the album. The back cover, (not pictured), is a drawing of the island from afar as viewed through a pair of binoculars, the songs listed below. Neither offensive nor memorable.  The first song opens with the sound of a church bell and footsteps, and then with the introduction of some upbeat guitar and quirky synthesizer we're into the story of 'Dr. Heckyll and Mr. Jive' a decently catchy tune that you quickly forget about as soon as you get into the second track. & 'Overkill' by far the group's best song of their short career, opens with the late Greg Ham's iconic saxophone and immediately exudes a beautifully pensive and ponderous atmosphere. The lyrics deal mainly with insomnia brought on by obsessive and relentless worry over relatively small issues, and I know I've had my bouts with that sort of nonsense. On the whole, the song is perfectly put together and despite, or perhaps even because of its somber tone, an eternally enjoyable listen that has withstood the test of time, whereas much of the album is a victim of the whims of its time period. The song would enjoy a rebirth in the early 2000's when the group's singer, Colin Hay performed an acoustic version on the television comedy series, 'Scrubs'. The third track is only notable for being sung, as well as written by the guitarist Ron Strykert. It's an innocuous throw-away about a father telling his son to, 'Settle Down'. Hence, the track title. Next up we have 'Upstairs in My House', a collaborative effort between Hay and Strykert with a fairly catchy chorus and rather puzzling lyrics. Your guess as to what it's about is as good as mine. Rounding out side one is an overlooked gem, one of my favs on the record, & 'No Sign of Yesterday'. It has a haunting, slow, plodding feel and features that wonderfully dense 80's synth sound. The theme is of dealing with loss, trying to move on. No new ground covered to be sure, but it hardly matters. As it fades out amidst some affected vocal riffing and guitar/sax interplay, I take a last sip of IPA and uncap the hefeweizen.  Side two kicks off with the song which spurred me to spend a precious Christmas gift-request on this album. 'It's a Mistake' features a sort of morose, languid ska riff and anti-war lyrics, complete with the requisite 80's reference to Ronald Reagan. Definitely inspired by the wave of nuclear paranoia which permeated that time. I can remember having nightmares about 'the bomb'. Such a terrifying feeling to know that you and everyone and everything you hold dear can be obliterated at the mere push of a button. But I digress... Despite the song's melancholic aura, it's a wonderfully catchy and excellent tune. So much so that my first band opted to cover, or rather mangle it during a few early performances. In hindsight this was a regrettable decision. Unfortunately the album heads downhill from here, mostly filler and unmemorable schlock. The fourth track, 'I Like To', stands out for being sung by keyboardist and sax man, Greg Ham, as well as for having by far the fastest tempo of anything else on the album. If you had fallen asleep somewhere in the morass of side two this might have jostled you awake. The final tune, 'No Restrictions' is also peppy and somewhat upbeat and features some fun guitar meanderings! --Audio Nightcap\", review_length=9060)\n"
     ]
    }
   ],
   "source": [
    "# Initialize SparkSession\n",
    "spark = SparkSession.builder \\\n",
    "    .appName(\"Product with Longest Review\") \\\n",
    "    .getOrCreate()\n",
    "\n",
    "# Read the DataFrame\n",
    "df = spark.read.csv(\"output_file.csv\", header=True, inferSchema=True)\n",
    "\n",
    "# Calculate the length of each review\n",
    "df_with_review_length = df.withColumn(\"review_length\", length(col(\"description\")))\n",
    "\n",
    "# Find the product with the longest review\n",
    "product_with_longest_review = df_with_review_length.orderBy(col(\"review_length\").desc()).first()\n",
    "\n",
    "# Display the product with the longest review\n",
    "print(\"Product with Longest Review:\")\n",
    "print(product_with_longest_review)\n",
    "\n",
    "# Stop SparkSession\n",
    "spark.stop()"
   ]
  },
  {
   "cell_type": "code",
   "execution_count": 47,
   "id": "93d40cd8",
   "metadata": {},
   "outputs": [
    {
     "name": "stdout",
     "output_type": "stream",
     "text": [
      "DataFrame converted to Parquet file successfully.\n"
     ]
    }
   ],
   "source": [
    "# Convert DataFrame to Parquet file\n",
    "df.to_parquet(\"your_parquet_file.parquet\")\n",
    "print(\"DataFrame converted to Parquet file successfully.\")"
   ]
  },
  {
   "cell_type": "code",
   "execution_count": null,
   "id": "0a55118a",
   "metadata": {},
   "outputs": [],
   "source": []
  },
  {
   "cell_type": "code",
   "execution_count": null,
   "id": "8b7ce873",
   "metadata": {},
   "outputs": [],
   "source": []
  },
  {
   "cell_type": "code",
   "execution_count": null,
   "id": "8dd973b5",
   "metadata": {},
   "outputs": [],
   "source": []
  },
  {
   "cell_type": "code",
   "execution_count": null,
   "id": "33c644d7",
   "metadata": {},
   "outputs": [],
   "source": []
  },
  {
   "cell_type": "code",
   "execution_count": null,
   "id": "c0ba985b",
   "metadata": {},
   "outputs": [],
   "source": []
  },
  {
   "cell_type": "code",
   "execution_count": null,
   "id": "bfe28db8",
   "metadata": {},
   "outputs": [],
   "source": []
  }
 ],
 "metadata": {
  "kernelspec": {
   "display_name": "Python 3 (ipykernel)",
   "language": "python",
   "name": "python3"
  },
  "language_info": {
   "codemirror_mode": {
    "name": "ipython",
    "version": 3
   },
   "file_extension": ".py",
   "mimetype": "text/x-python",
   "name": "python",
   "nbconvert_exporter": "python",
   "pygments_lexer": "ipython3",
   "version": "3.11.5"
  }
 },
 "nbformat": 4,
 "nbformat_minor": 5
}
